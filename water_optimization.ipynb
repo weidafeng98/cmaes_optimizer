{
 "cells": [
  {
   "cell_type": "markdown",
   "metadata": {},
   "source": [
    "In this test file, we will use CMA-ES algorithm with Gaussian to do optimization for H2O molecule.\n",
    "\n",
    "The purpose of this test is to check the availability of CMA-ES algorithm in molecule optimizaton."
   ]
  },
  {
   "cell_type": "code",
   "execution_count": 1,
   "metadata": {},
   "outputs": [],
   "source": [
    "# import necessary packages\n",
    "import os\n",
    "import re\n",
    "import cma"
   ]
  },
  {
   "cell_type": "code",
   "execution_count": 2,
   "metadata": {},
   "outputs": [],
   "source": [
    "# basic setting of calculations\n",
    "nproc = \"4\"    # cpu cores used in calculations\n",
    "mem = \"4GB\"    # maximum memory used in calculations\n",
    "energy_keyword = \"# B3LYP 6-31G*\"    # the keyword of calculating energy,\n",
    "charge = 0    # total charge of system\n",
    "multiplicity = 1    # multiplicity of system\n",
    "external_keyword = \"\"    # external keyword after the coordinates of atoms in Gaussian input files, like custom basis set setting\n",
    "gaussian_commond = \"g09\"    # commond to call Gaussian calculation"
   ]
  },
  {
   "cell_type": "code",
   "execution_count": 3,
   "metadata": {},
   "outputs": [],
   "source": [
    "# calculate the energy\n",
    "def energy_calculate(atom_list, energy_keyword, charge=0, multiplicity=1, external_keyword=\"\"):\n",
    "    # write Gaussian gjf input file\n",
    "    with open(\"energy.gjf\", \"wt\") as txt:\n",
    "        txt.write(\"%nproc=\" + nproc + \"\\n\")\n",
    "        txt.write(\"%mem=\" + mem + \"\\n\")\n",
    "        txt.write(energy_keyword + \"\\n\\n\")\n",
    "        txt.write(\"energy_calculation\\n\\n\")\n",
    "        txt.write(str(charge) + \" \" + str(multiplicity) + \"\\n\")\n",
    "        for atom in atom_list:\n",
    "            txt.write(atom + \"\\n\")\n",
    "        txt.write(\"\\n\"+external_keyword+\"\\n\\n\\n\\n\")\n",
    "\n",
    "    # call Gaussian to calculate the energy\n",
    "    try:\n",
    "        os.system(gaussian_commond + \" < energy.gjf > energy.log\")\n",
    "    except:\n",
    "        print(\"Energy calculation failed. Check the energy.log file please!\")"
   ]
  },
  {
   "cell_type": "code",
   "execution_count": 4,
   "metadata": {},
   "outputs": [],
   "source": [
    "# extract the energy from Guassian output file\n",
    "def energy_extract(energy_lable=\"HF=\", filename=\"energy.log\"):    # remeber to change energy_lable if using other calculation methods like post-HF or CC\n",
    "    with open(filename, \"rt\") as txt:\n",
    "        s = txt.read().replace(\"\\n\", \"\")\n",
    "        s_list = s.split(\"\\\\\")\n",
    "        for i in range(len(s_list)-1):\n",
    "            str = s_list[len(s_list)-1-i]\n",
    "            if re.match(energy_lable, str) != None:\n",
    "                return float(str[len(energy_lable):].replace(\" \",\"\"))"
   ]
  },
  {
   "cell_type": "code",
   "execution_count": 5,
   "metadata": {},
   "outputs": [],
   "source": [
    "# define energy function for a specific system\n",
    "def energy(coord):\n",
    "    atom_list = [\"O\", \"H 1 \"+str(coord[0]), \"H 1 \"+str(coord[0])+\" 2 \"+str(coord[1])]    # use z-martix as an example and keep two O-H bonds the same\n",
    "    energy_calculate(atom_list, energy_keyword, charge, multiplicity, external_keyword)\n",
    "    return energy_extract()"
   ]
  },
  {
   "cell_type": "code",
   "execution_count": 6,
   "metadata": {},
   "outputs": [
    {
     "name": "stdout",
     "output_type": "stream",
     "text": [
      "(3_w,6)-aCMA-ES (mu_w=2.0,w_1=63%) in dimension 2 (seed=2445, Tue Oct 11 17:16:16 2022)\n",
      "Iterat #Fevals   function value  axis ratio  sigma  min&max std  t[m:s]\n",
      "    1      6 -7.640654990000000e+01 1.0e+00 1.53e-01  1e-01  1e-01 0:04.1\n",
      "    2     12 -7.640884090000000e+01 1.0e+00 1.39e-01  1e-01  1e-01 0:07.8\n",
      "    3     18 -7.640750740000000e+01 1.2e+00 1.09e-01  7e-02  9e-02 0:11.6\n",
      "    4     24 -7.640856900000000e+01 1.3e+00 9.35e-02  5e-02  7e-02 0:15.3\n",
      "    6     36 -7.640853300000001e+01 1.5e+00 6.59e-02  3e-02  5e-02 0:22.7\n",
      "    8     48 -7.640893410000000e+01 2.4e+00 4.39e-02  1e-02  3e-02 0:30.0\n",
      "   10     60 -7.640888090000000e+01 2.3e+00 3.86e-02  9e-03  2e-02 0:37.4\n",
      "   12     72 -7.640893749999999e+01 2.5e+00 3.20e-02  6e-03  2e-02 0:44.8\n",
      "   15     90 -7.640893840000000e+01 6.0e+00 3.25e-02  4e-03  2e-02 0:55.9\n",
      "   18    108 -7.640892839999999e+01 9.2e+00 3.07e-02  2e-03  2e-02 1:06.9\n",
      "   21    126 -7.640893810000000e+01 1.1e+01 2.08e-02  1e-03  1e-02 1:18.0\n",
      "   24    144 -7.640893989999999e+01 2.3e+01 5.30e-02  2e-03  4e-02 1:29.1\n",
      "   28    168 -7.640894270000000e+01 2.4e+01 4.01e-02  9e-04  3e-02 1:43.9\n",
      "   32    192 -7.640894710000001e+01 5.5e+01 9.83e-02  2e-03  1e-01 1:58.7\n",
      "   36    216 -7.640895180000000e+01 1.2e+02 1.21e-01  1e-03  2e-01 2:13.4\n",
      "   41    246 -7.640895230000000e+01 3.4e+02 1.62e-01  8e-04  3e-01 2:31.9\n",
      "   46    276 -7.640895290000000e+01 3.9e+02 1.33e-01  5e-04  2e-01 2:50.8\n",
      "   51    306 -7.640895329999999e+01 4.7e+02 3.72e-02  6e-05  3e-02 3:09.3\n",
      "   53    318 -7.640895329999999e+01 4.3e+02 4.29e-02  8e-05  3e-02 3:16.7\n"
     ]
    },
    {
     "data": {
      "text/plain": [
       "<cma.evolution_strategy.CMAEvolutionStrategy at 0x7f8ef0bfccd0>"
      ]
     },
     "execution_count": 6,
     "metadata": {},
     "output_type": "execute_result"
    }
   ],
   "source": [
    "# cma-es part\n",
    "init_coord = [0.9584, 104.45]    # initial coordinates of atoms\n",
    "\n",
    "es = cma.CMAEvolutionStrategy(init_coord, 0.2, {\"seed\":2445})    # set cma-es model, use 0.2 as sigma0, 2445 as random seed\n",
    "es.optimize(energy)    # optimize the cma-es model"
   ]
  },
  {
   "cell_type": "code",
   "execution_count": 7,
   "metadata": {},
   "outputs": [
    {
     "name": "stdout",
     "output_type": "stream",
     "text": [
      "[  0.96878134 103.64849749]\n"
     ]
    }
   ],
   "source": [
    "print(es.result.xbest)    # print optimization result"
   ]
  },
  {
   "cell_type": "markdown",
   "metadata": {},
   "source": [
    "The optimization result is:\n",
    "\n",
    "O-H bond is 0.96878134 A;\n",
    "\n",
    "H-O-H angle is 103.64849749 degree.\n",
    "\n",
    "****************\n",
    "\n",
    "If we directly use Gaussian to do optimization with \"opt=tight\", we will get the result:\n",
    "\n",
    "O-H bond is 0.9687 A;\n",
    "\n",
    "H-O-H angle is 103.6522 degree.\n",
    "\n",
    "****************\n",
    "\n",
    "The result is almost the same, showing using CMA-ES algorithm to do optimization for molecules is available."
   ]
  }
 ],
 "metadata": {
  "kernelspec": {
   "display_name": "Python 3.8.12",
   "language": "python",
   "name": "python3"
  },
  "language_info": {
   "codemirror_mode": {
    "name": "ipython",
    "version": 3
   },
   "file_extension": ".py",
   "mimetype": "text/x-python",
   "name": "python",
   "nbconvert_exporter": "python",
   "pygments_lexer": "ipython3",
   "version": "3.8.12"
  },
  "orig_nbformat": 4,
  "vscode": {
   "interpreter": {
    "hash": "ac4be9749a6c7c43ddbf15b49e101e5bdf7a2f41f2b96f515ed3f2bec13c38cf"
   }
  }
 },
 "nbformat": 4,
 "nbformat_minor": 2
}
