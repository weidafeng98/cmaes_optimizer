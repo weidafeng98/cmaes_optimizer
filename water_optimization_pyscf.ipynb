{
 "cells": [
  {
   "cell_type": "markdown",
   "metadata": {},
   "source": [
    "In this test file, we will use PySCF package to calculate the energy other than Gaussian software.\n",
    "\n",
    "The purpose of this test is to check the availability of using PySCF package in cmaes_optimizer."
   ]
  },
  {
   "cell_type": "code",
   "execution_count": 1,
   "metadata": {},
   "outputs": [],
   "source": [
    "# import necessary packages\n",
    "\n",
    "import cma\n",
    "from pyscf import gto, dft, lib"
   ]
  },
  {
   "cell_type": "code",
   "execution_count": 2,
   "metadata": {},
   "outputs": [],
   "source": [
    "# basic setting of calculations\n",
    "\n",
    "dft_keyword = \"B3LYP\"    # the keyword of DFT to calculate the energy\n",
    "basis_keyword = \"6-31G*\"    # the basis set to calculate the energy\n",
    "charge = 0    # total charge of system\n",
    "multiplicity = 1    # multiplicity of system\n",
    "max_memory = 4000    # maximum memory allowed in DFT calculation, in MB\n",
    "cal_method = \"R\"    # set the calculation method to be \"R\" (restricted), \"U\" (unrestricted), \"RO\" (restricted open-shell)\n",
    "#lib.misc.num_threads(n = 4)    # PySCF uses all CPU cores to do calculations as default; users may change it if needed"
   ]
  },
  {
   "cell_type": "code",
   "execution_count": 3,
   "metadata": {},
   "outputs": [],
   "source": [
    "# calculate the energy\n",
    "\n",
    "def energy_calculate(atom_list, dft_keyword, basis_keyword, charge=0, multiplicity=1, cal_method=\"R\"):\n",
    "    if cal_method != \"RO\" and multiplicity != 1:    # set default calculation method; R for close-shell systems; U for open-shell systems\n",
    "        cal_method = \"U\"\n",
    "    try:\n",
    "        mol = gto.Mole()    # set the molecule\n",
    "\n",
    "        coord = \"\"    # translate the coordinates\n",
    "        for atom in atom_list:\n",
    "            coord += atom\n",
    "            coord += \"; \"\n",
    "        mol.atom = coord\n",
    "\n",
    "        mol.charge = charge\n",
    "        mol.multiplicity = multiplicity\n",
    "        mol.basis = basis_keyword\n",
    "        mol.max_memory = max_memory\n",
    "        \n",
    "        if cal_method == \"R\":\n",
    "            scf = dft.RKS(mol.build())    # set the R DFT calculation\n",
    "        elif cal_method == \"U\":\n",
    "            scf = dft.UKS(mol.build())    # set the U DFT calculation\n",
    "        elif cal_method == \"RO\":\n",
    "            scf = dft.ROKS(mol.build())    # set the U DFT calculation\n",
    "\n",
    "        scf.verbose = 2    # use simple output model\n",
    "        scf.max_cycle = 128    # maximum cycle number of SCF iterations\n",
    "        scf.conv_tol = 1e-8    # converge standard of SCF iteration\n",
    "        scf.grids.atom_grid = (75, 302)    # set the integration grid, (75, 302) is the default level (int=fine) in Gaussian 09\n",
    "        scf.xc = dft_keyword\n",
    "        \n",
    "        energy = scf.kernel()    # calculate the energy\n",
    "\n",
    "        if scf.converged == False:    # if SCF iterations failed, return a very high energy\n",
    "            energy == 999.999\n",
    "\n",
    "        return energy\n",
    "\n",
    "    except:\n",
    "        return 999.999    # if energy calculation failed, return a very high energy"
   ]
  },
  {
   "cell_type": "code",
   "execution_count": 4,
   "metadata": {},
   "outputs": [],
   "source": [
    "# define energy function for a specific system\n",
    "\n",
    "def energy(coord):\n",
    "    atom_list = [\"O\", \"H 1 \"+str(coord[0]), \"H 1 \"+str(coord[0])+\" 2 \"+str(coord[1])]    # use z-martix as an example and keep two O-H bonds the same\n",
    "    return energy_calculate(atom_list, dft_keyword, basis_keyword, charge, multiplicity)"
   ]
  },
  {
   "cell_type": "code",
   "execution_count": 5,
   "metadata": {},
   "outputs": [
    {
     "name": "stdout",
     "output_type": "stream",
     "text": [
      "(3_w,6)-aCMA-ES (mu_w=2.0,w_1=63%) in dimension 2 (seed=2445, Thu Oct 13 15:01:56 2022)\n",
      "Iterat #Fevals   function value  axis ratio  sigma  min&max std  t[m:s]\n",
      "    1      6 -7.636950990464416e+01 1.0e+00 2.07e-01  2e-01  2e-01 0:01.8\n",
      "    2     12 -7.636928060814114e+01 1.1e+00 2.19e-01  2e-01  2e-01 0:03.6\n",
      "    3     18 -7.636313445628745e+01 1.5e+00 2.13e-01  1e-01  2e-01 0:05.5\n",
      "    5     30 -7.636938614564643e+01 2.2e+00 1.58e-01  7e-02  2e-01 0:09.0\n",
      "    8     48 -7.636958064149479e+01 3.3e+00 9.67e-02  3e-02  8e-02 0:13.9\n",
      "   11     66 -7.636947658516142e+01 3.7e+00 7.20e-02  1e-02  6e-02 0:19.0\n",
      "   15     90 -7.636955982818422e+01 8.0e+00 5.02e-02  5e-03  4e-02 0:25.5\n",
      "   20    120 -7.636957490209609e+01 1.2e+01 3.72e-02  2e-03  3e-02 0:33.8\n",
      "   25    150 -7.636959326188970e+01 2.4e+01 6.12e-02  2e-03  5e-02 0:42.1\n",
      "   31    186 -7.636964585614504e+01 5.3e+01 1.25e-01  2e-03  1e-01 0:52.0\n",
      "   37    222 -7.636972822408075e+01 9.7e+01 1.70e-01  2e-03  2e-01 1:02.1\n",
      "   44    264 -7.636985450591881e+01 1.7e+02 3.94e-01  3e-03  7e-01 1:13.7\n",
      "   51    306 -7.636989392846665e+01 4.5e+02 2.88e-01  9e-04  4e-01 1:25.9\n",
      "   59    354 -7.636989432712086e+01 2.5e+02 6.37e-02  1e-04  3e-02 1:39.7\n",
      "   68    408 -7.636989433419272e+01 3.7e+02 2.34e-02  2e-05  6e-03 1:54.7\n",
      "   77    462 -7.636989433462905e+01 2.1e+02 7.81e-03  4e-06  8e-04 2:09.7\n",
      "   87    522 -7.636989433463262e+01 4.0e+02 1.39e-03  2e-07  7e-05 2:26.5\n",
      "   96    576 -7.636989433463282e+01 3.2e+02 7.39e-04  6e-08  2e-05 2:42.0\n"
     ]
    },
    {
     "data": {
      "text/plain": [
       "<cma.evolution_strategy.CMAEvolutionStrategy at 0x7fd5b14e7ac0>"
      ]
     },
     "execution_count": 5,
     "metadata": {},
     "output_type": "execute_result"
    }
   ],
   "source": [
    "# cma-es part\n",
    "\n",
    "init_coord = [1.0, 100.0]    # initial coordinates of atoms; this time we use the initial coordinates not that near the result\n",
    "\n",
    "es = cma.CMAEvolutionStrategy(init_coord, 0.25, {\"seed\":2445})    # set cma-es model, use 0.25 as sigma0, 2445 as random seed\n",
    "\n",
    "es.optimize(energy)    # optimize the cma-es model"
   ]
  },
  {
   "cell_type": "code",
   "execution_count": 6,
   "metadata": {},
   "outputs": [
    {
     "name": "stdout",
     "output_type": "stream",
     "text": [
      "[  0.96891999 103.85329792]\n"
     ]
    }
   ],
   "source": [
    "print(es.result.xbest)    # print optimization result"
   ]
  },
  {
   "cell_type": "markdown",
   "metadata": {},
   "source": [
    "The optimization result is:\n",
    "\n",
    "O-H bond is 0.96891999 A;\n",
    "\n",
    "H-O-H angle is 103.85329792 degree.\n",
    "\n",
    "****************\n",
    "\n",
    "If we directly use Gaussian to do optimization with \"opt=tight\", we will get the result:\n",
    "\n",
    "O-H bond is 0.9687 A;\n",
    "\n",
    "H-O-H angle is 103.6522 degree.\n",
    "\n",
    "****************\n",
    "\n",
    "The result is close, the small difference might be caused from the difference of PySCF and Gaussian.\n",
    "\n",
    "It is possible to use CMA-ES algorithm to use PySCF package in cmaes_optimizer."
   ]
  }
 ],
 "metadata": {
  "kernelspec": {
   "display_name": "Python 3.10.6",
   "language": "python",
   "name": "python3"
  },
  "language_info": {
   "codemirror_mode": {
    "name": "ipython",
    "version": 3
   },
   "file_extension": ".py",
   "mimetype": "text/x-python",
   "name": "python",
   "nbconvert_exporter": "python",
   "pygments_lexer": "ipython3",
   "version": "3.10.6"
  },
  "orig_nbformat": 4,
  "vscode": {
   "interpreter": {
    "hash": "efa8ea70f21c7c3da793ee285aac013e98e2e026caa88f273865877932a93d31"
   }
  }
 },
 "nbformat": 4,
 "nbformat_minor": 2
}
